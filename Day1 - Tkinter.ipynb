{
 "cells": [
  {
   "cell_type": "markdown",
   "id": "35209be1-3a40-4f12-a7f7-7351c8fca584",
   "metadata": {},
   "source": [
    "# 31 days of intensive python projects with my colleague, vincent Github @ Acirfa1"
   ]
  },
  {
   "cell_type": "markdown",
   "id": "30db6f0e-2ca0-4822-a70f-961ab01bc076",
   "metadata": {},
   "source": [
    "## Day 1: Temperature Converter using Tkinter. "
   ]
  },
  {
   "cell_type": "code",
   "execution_count": 1,
   "id": "d895efa5-3bbe-470e-bdc8-fe0633ade63c",
   "metadata": {
    "tags": []
   },
   "outputs": [],
   "source": [
    "from tkinter import *\n",
    "import tkinter as tk\n",
    "\n",
    "def convert_temperature():\n",
    "    celsius_str = entry.get()\n",
    "    celsius = float(celsius_str)\n",
    "    fahrenheit = (celsius * 9/5) + 32\n",
    "    result_entry.config(state=tk.NORMAL)\n",
    "    result_entry.delete(0, tk.END)  # Clear previous result\n",
    "    result_entry.insert(tk.END, f\"{fahrenheit:.2f} °F\")\n",
    "    result_entry.config(state=tk.DISABLED)\n",
    "\n",
    "# Create the main window\n",
    "master = tk.Tk()\n",
    "master.title(\"Temperature Converter\")\n",
    "\n",
    "# Create and place widgets\n",
    "instruction_label = tk.Label(master, text=\"Enter temperature in Celsius:\")\n",
    "instruction_label.pack(pady=10)\n",
    "\n",
    "entry = tk.Entry(master, width=30)\n",
    "entry.pack(pady=5)\n",
    "\n",
    "convert_button = tk.Button(master, text=\"Convert\", command=convert_temperature)\n",
    "convert_button.pack(pady=5)\n",
    "\n",
    "result_entry = tk.Entry(master, width=30, state=tk.DISABLED)\n",
    "result_entry.pack(pady=10)\n",
    "\n",
    "# Start the Tkinter event loop\n",
    "master.mainloop()"
   ]
  },
  {
   "cell_type": "code",
   "execution_count": 2,
   "id": "f0637353-732b-4f47-9760-ef37aaff65d0",
   "metadata": {
    "tags": []
   },
   "outputs": [
    {
     "data": {
      "image/png": "[encoded data removed]",
      "text/plain": [
       "<Figure size 640x480 with 1 Axes>"
      ]
     },
     "metadata": {},
     "output_type": "display_data"
    }
   ],
   "source": [
    "from tkinter import *\n",
    "import tkinter as tk\n",
    "import matplotlib.pyplot as plt\n",
    "from matplotlib.backends.backend_tkagg import FigureCanvasTkAgg\n",
    "\n",
    "master = Tk()\n",
    "master.title(\"Temperature Converter\")\n",
    "\n",
    "def convert_temperature():\n",
    "    celsius_str = entry1.get()\n",
    "    try:\n",
    "        celsius = float(celsius_str)\n",
    "        fahrenheit = (celsius * 9/5) + 32\n",
    "        result_entry.config(state=tk.NORMAL)\n",
    "        result_entry.delete(0, tk.END)\n",
    "        result_entry.insert(tk.END, f\"{fahrenheit:.2f} °F\")\n",
    "        result_entry.config(state=tk.DISABLED)\n",
    "\n",
    "        # Create a bar chart\n",
    "        plt.bar([\"Celsius\", \"Fahrenheit\"], [celsius, fahrenheit])\n",
    "        plt.xlabel(\"Temperature\")\n",
    "        plt.ylabel(\"Value\")\n",
    "        plt.title(\"Temperature Conversion\")\n",
    "        plt.show()\n",
    "\n",
    "    except ValueError:\n",
    "        result_entry.config(state=tk.NORMAL)\n",
    "        result_entry.delete(0, tk.END)\n",
    "        result_entry.insert(tk.END, \"Invalid input\")\n",
    "        result_entry.config(state=tk.DISABLED)\n",
    "\n",
    "entry1 = Entry(master, bd=6, relief=\"sunken\", width=30)\n",
    "entry1.pack()\n",
    "\n",
    "label = Label(master, text=\"Enter Temperature in Celsius\")\n",
    "label.pack()\n",
    "\n",
    "result_entry = Entry(master, bd=6, relief=\"raised\", width=30, state=tk.DISABLED)\n",
    "result_entry.pack()\n",
    "\n",
    "Button(master, text=\"Convert Temp\", command=convert_temperature).pack()\n",
    "\n",
    "master.mainloop()"
   ]
  },
  {
   "cell_type": "code",
   "execution_count": null,
   "id": "7d107c86-21a5-4eab-9351-5c0caeff55a5",
   "metadata": {},
   "outputs": [],
   "source": []
  }
 ],
 "metadata": {
  "kernelspec": {
   "display_name": "Python 3 (ipykernel)",
   "language": "python",
   "name": "python3"
  },
  "language_info": {
   "codemirror_mode": {
    "name": "ipython",
    "version": 3
   },
   "file_extension": ".py",
   "mimetype": "text/x-python",
   "name": "python",
   "nbconvert_exporter": "python",
   "pygments_lexer": "ipython3",
   "version": "3.11.4"
  }
 },
 "nbformat": 4,
 "nbformat_minor": 5
}
