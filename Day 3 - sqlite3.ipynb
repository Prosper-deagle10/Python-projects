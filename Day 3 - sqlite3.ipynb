{
 "cells": [
  {
   "cell_type": "markdown",
   "id": "ec242ea5-7182-494b-bb35-eb3dceb5a8f3",
   "metadata": {},
   "source": [
    "# 31 days of intensive python projects with my colleague, vincent Github @ Acirfa1¶"
   ]
  },
  {
   "cell_type": "markdown",
   "id": "ab6e4c98-ceb6-45a9-9c82-56e8b14dabe9",
   "metadata": {},
   "source": [
    "## Day 2: sqlite3 practice"
   ]
  },
  {
   "cell_type": "code",
   "execution_count": 1,
   "id": "d4be7f6f-9bd7-44e9-a431-92320dc2b88b",
   "metadata": {
    "tags": []
   },
   "outputs": [],
   "source": [
    "import sqlite3 as sqlite\n",
    "connection = sqlite.connect(\"department.db\")\n",
    "connection.execute(\"CREATE TABLE department(name TEXT, age INT, mat_number TEXT, state TEXT)\")\n",
    "connection.close()"
   ]
  },
  {
   "cell_type": "code",
   "execution_count": 3,
   "id": "0edbc9fa-ef52-44cf-af0e-031666824575",
   "metadata": {
    "tags": []
   },
   "outputs": [],
   "source": [
    "conn = sqlite.connect(\"department.db\")\n",
    "conn.execute('INSERT INTO department (name, age, mat_number, state) VALUES (\"David\", 25, \"k2-1\", \"Abia State\")')\n",
    "conn.commit()\n",
    "conn.close()"
   ]
  },
  {
   "cell_type": "code",
   "execution_count": 4,
   "id": "4e4ccbb9-700c-4dea-9fd7-8a26b1332d50",
   "metadata": {
    "tags": []
   },
   "outputs": [],
   "source": [
    "conn = sqlite.connect(\"department.db\")\n",
    "conn.execute('INSERT INTO department (name, age, mat_number, state) VALUES (\"Jane\", 20, \"k2-2\", \"Rivers State\")')\n",
    "conn.commit()\n",
    "conn.close()"
   ]
  },
  {
   "cell_type": "code",
   "execution_count": 5,
   "id": "03665f3c-9d1b-4494-ad9a-7987b9c7dd2c",
   "metadata": {
    "tags": []
   },
   "outputs": [],
   "source": [
    "conn = sqlite.connect(\"department.db\")\n",
    "conn.execute('INSERT INTO department (name, age, mat_number, state) VALUES (\"Mark\", 22, \"k2-3\", \"Kano State\")')\n",
    "conn.commit()\n",
    "conn.close()"
   ]
  },
  {
   "cell_type": "code",
   "execution_count": 6,
   "id": "7946ef03-5c42-420d-bceb-a5b20aa9ebdd",
   "metadata": {
    "tags": []
   },
   "outputs": [],
   "source": [
    "conn = sqlite.connect(\"department.db\")\n",
    "conn.execute('INSERT INTO department (name, age, mat_number, state) VALUES (\"Zenith\", 22, \"k2-4\", \"Delta State\")')\n",
    "conn.commit()\n",
    "conn.close()"
   ]
  },
  {
   "cell_type": "code",
   "execution_count": 7,
   "id": "8f88d0c5-3102-46e0-b0bc-dbc332ec211b",
   "metadata": {
    "tags": []
   },
   "outputs": [],
   "source": [
    "conn = sqlite.connect(\"department.db\")\n",
    "conn.execute('INSERT INTO department (name, age, mat_number, state) VALUES (\"Mike\", 27, \"k2-5\", \"Imo State\")')\n",
    "conn.commit()\n",
    "conn.close()"
   ]
  },
  {
   "cell_type": "code",
   "execution_count": 8,
   "id": "11675c50-f152-4a83-aac4-79261e0c4067",
   "metadata": {
    "tags": []
   },
   "outputs": [
    {
     "name": "stdout",
     "output_type": "stream",
     "text": [
      "<sqlite3.Cursor object at 0x000002B7ACE76140>\n",
      "('David', 25, 'k2-1', 'Abia State')\n",
      "('Jane', 20, 'k2-2', 'Rivers State')\n",
      "('Mark', 22, 'k2-3', 'Kano State')\n",
      "('Zenith', 22, 'k2-4', 'Delta State')\n",
      "('Mike', 27, 'k2-5', 'Imo State')\n"
     ]
    }
   ],
   "source": [
    "conn = sqlite.connect(\"department.db\")\n",
    "curs = conn.cursor()\n",
    "content = curs.execute(\"SELECT * FROM department\")\n",
    "print(content)\n",
    "for details in content:\n",
    "    print(details)\n",
    "conn.close()"
   ]
  },
  {
   "cell_type": "code",
   "execution_count": 9,
   "id": "1f79ffb8-75b9-4b3c-b72a-3a444831465c",
   "metadata": {
    "tags": []
   },
   "outputs": [
    {
     "name": "stdout",
     "output_type": "stream",
     "text": [
      "<sqlite3.Cursor object at 0x000002B7ADBA0CC0>\n",
      "(25,)\n",
      "(20,)\n",
      "(22,)\n",
      "(22,)\n",
      "(27,)\n"
     ]
    }
   ],
   "source": [
    "conn = sqlite.connect(\"department.db\")\n",
    "curs = conn.cursor()\n",
    "content = curs.execute(\"SELECT age FROM department\")\n",
    "print(content)\n",
    "for details in content:\n",
    "    print(details)\n",
    "conn.close()"
   ]
  },
  {
   "cell_type": "code",
   "execution_count": null,
   "id": "b630e32e-9f9b-411b-8785-b918fe757978",
   "metadata": {},
   "outputs": [],
   "source": []
  }
 ],
 "metadata": {
  "kernelspec": {
   "display_name": "Python 3 (ipykernel)",
   "language": "python",
   "name": "python3"
  },
  "language_info": {
   "codemirror_mode": {
    "name": "ipython",
    "version": 3
   },
   "file_extension": ".py",
   "mimetype": "text/x-python",
   "name": "python",
   "nbconvert_exporter": "python",
   "pygments_lexer": "ipython3",
   "version": "3.11.4"
  }
 },
 "nbformat": 4,
 "nbformat_minor": 5
}
