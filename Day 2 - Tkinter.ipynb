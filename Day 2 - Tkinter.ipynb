{
 "cells": [
  {
   "cell_type": "markdown",
   "id": "c51be657-4e89-4c30-8d1a-8dc88e993719",
   "metadata": {},
   "source": [
    "# 31 days of intensive python projects with my colleague, vincent Github @ Acirfa1"
   ]
  },
  {
   "cell_type": "markdown",
   "id": "643578b4-e80b-48b6-a760-2e9fcdd922d5",
   "metadata": {},
   "source": [
    "## Day 2: Checkbox and Radiobutton using Tkinter"
   ]
  },
  {
   "cell_type": "code",
   "execution_count": null,
   "id": "2e6e8bb9-192a-432d-9687-2ba605361e34",
   "metadata": {},
   "outputs": [],
   "source": [
    "from tkinter import *\n",
    "master = Tk()\n",
    "var1 = IntVar()\n",
    "Checkbutton(master, text=\"male\", variable=var1).pack()\n",
    "\n",
    "\n",
    "\n",
    "var2 = IntVar()\n",
    "Checkbutton(master, text=\"female\", variable=var2).pack()\n",
    "\n",
    "master.mainloop()\n"
   ]
  },
  {
   "cell_type": "code",
   "execution_count": 1,
   "id": "f6aaf626-4e3f-4591-b407-98679240c379",
   "metadata": {
    "tags": []
   },
   "outputs": [
    {
     "name": "stdout",
     "output_type": "stream",
     "text": [
      "First Name: hghggh\n",
      "Last Name: gfhfgf\n"
     ]
    }
   ],
   "source": [
    "from tkinter import *\n",
    "def show_entry_fields():\n",
    "    print(\"First Name: %s\\nLast Name: %s\" % (e1.get(), e2.get()))\n",
    "master = Tk()\n",
    "Label(master, text=\"First Name\").grid(row=0)\n",
    "Label(master, text=\"Last Name\").grid(row=1)\n",
    "e1 = Entry(master)\n",
    "e1.grid(row=0, column=1)\n",
    "e2 = Entry(master)\n",
    "e2.grid(row=1, column=1)\n",
    "Button(master, text='Quit', command=quit).grid(row=3, column=0, pady=4)\n",
    "Button(master, text='Show', command=show_entry_fields).grid(row=3, column=1,pady=4)\n",
    "mainloop()"
   ]
  },
  {
   "cell_type": "code",
   "execution_count": 1,
   "id": "42647bc3-e326-4ccc-900c-3ea8c19e432c",
   "metadata": {
    "tags": []
   },
   "outputs": [],
   "source": [
    "import tkinter as tk\n",
    "\n",
    "def radio_button():\n",
    "    selected_options = [option for option, var in zip(['Option 1', 'Option 2', 'Option 3'], radio_button_var) if var.get() == 1]\n",
    "    selection_label.config(text = \"Selected option: \" + \" \".join(selected_options))\n",
    "\n",
    "root = tk.Tk()\n",
    "radio_button_var = [tk.BooleanVar() for _ in range(3)]\n",
    "\n",
    "for i, option in enumerate([\"Option 1\", \"Option 2\", \"Option 3\"]):\n",
    "    radio_button = tk.Radiobutton(root, text = option, variable = radio_button_var[i])\n",
    "    radio_button.pack()\n",
    "\n",
    "show_button = tk.Button(root, text = \"Show Selection\", command = radio_button)\n",
    "selection_label = tk.Label(root, text = '')\n",
    "show_button.pack()\n",
    "selection_label.pack()\n",
    "\n",
    "root.mainloop()"
   ]
  },
  {
   "cell_type": "code",
   "execution_count": null,
   "id": "b05916e1-1399-437f-b8fd-685f2b608d2a",
   "metadata": {},
   "outputs": [],
   "source": []
  }
 ],
 "metadata": {
  "kernelspec": {
   "display_name": "Python 3 (ipykernel)",
   "language": "python",
   "name": "python3"
  },
  "language_info": {
   "codemirror_mode": {
    "name": "ipython",
    "version": 3
   },
   "file_extension": ".py",
   "mimetype": "text/x-python",
   "name": "python",
   "nbconvert_exporter": "python",
   "pygments_lexer": "ipython3",
   "version": "3.11.4"
  }
 },
 "nbformat": 4,
 "nbformat_minor": 5
}
